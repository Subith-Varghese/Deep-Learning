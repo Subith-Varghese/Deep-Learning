{
 "cells": [
  {
   "cell_type": "code",
   "execution_count": 1,
   "id": "d9fc9b90",
   "metadata": {},
   "outputs": [],
   "source": [
    "# import basics libraries\n",
    "import tensorflow as tf\n",
    "import numpy as np\n",
    "import matplotlib.pyplot as plt\n",
    "import pandas as pd"
   ]
  },
  {
   "cell_type": "code",
   "execution_count": 2,
   "id": "5f340abf",
   "metadata": {},
   "outputs": [],
   "source": [
    "df=pd.read_csv('Churn_Modelling.csv')"
   ]
  },
  {
   "cell_type": "code",
   "execution_count": 3,
   "id": "3d69fb7d",
   "metadata": {},
   "outputs": [],
   "source": [
    "# Define Independent and Dependent Features\n",
    "X = df.iloc[:,3:13]\n",
    "y = df.iloc[:,13]"
   ]
  },
  {
   "cell_type": "code",
   "execution_count": 4,
   "id": "a666c97a",
   "metadata": {},
   "outputs": [
    {
     "data": {
      "text/html": [
       "<div>\n",
       "<style scoped>\n",
       "    .dataframe tbody tr th:only-of-type {\n",
       "        vertical-align: middle;\n",
       "    }\n",
       "\n",
       "    .dataframe tbody tr th {\n",
       "        vertical-align: top;\n",
       "    }\n",
       "\n",
       "    .dataframe thead th {\n",
       "        text-align: right;\n",
       "    }\n",
       "</style>\n",
       "<table border=\"1\" class=\"dataframe\">\n",
       "  <thead>\n",
       "    <tr style=\"text-align: right;\">\n",
       "      <th></th>\n",
       "      <th>CreditScore</th>\n",
       "      <th>Geography</th>\n",
       "      <th>Gender</th>\n",
       "      <th>Age</th>\n",
       "      <th>Tenure</th>\n",
       "      <th>Balance</th>\n",
       "      <th>NumOfProducts</th>\n",
       "      <th>HasCrCard</th>\n",
       "      <th>IsActiveMember</th>\n",
       "      <th>EstimatedSalary</th>\n",
       "    </tr>\n",
       "  </thead>\n",
       "  <tbody>\n",
       "    <tr>\n",
       "      <th>0</th>\n",
       "      <td>619</td>\n",
       "      <td>France</td>\n",
       "      <td>Female</td>\n",
       "      <td>42</td>\n",
       "      <td>2</td>\n",
       "      <td>0.00</td>\n",
       "      <td>1</td>\n",
       "      <td>1</td>\n",
       "      <td>1</td>\n",
       "      <td>101348.88</td>\n",
       "    </tr>\n",
       "    <tr>\n",
       "      <th>1</th>\n",
       "      <td>608</td>\n",
       "      <td>Spain</td>\n",
       "      <td>Female</td>\n",
       "      <td>41</td>\n",
       "      <td>1</td>\n",
       "      <td>83807.86</td>\n",
       "      <td>1</td>\n",
       "      <td>0</td>\n",
       "      <td>1</td>\n",
       "      <td>112542.58</td>\n",
       "    </tr>\n",
       "    <tr>\n",
       "      <th>2</th>\n",
       "      <td>502</td>\n",
       "      <td>France</td>\n",
       "      <td>Female</td>\n",
       "      <td>42</td>\n",
       "      <td>8</td>\n",
       "      <td>159660.80</td>\n",
       "      <td>3</td>\n",
       "      <td>1</td>\n",
       "      <td>0</td>\n",
       "      <td>113931.57</td>\n",
       "    </tr>\n",
       "    <tr>\n",
       "      <th>3</th>\n",
       "      <td>699</td>\n",
       "      <td>France</td>\n",
       "      <td>Female</td>\n",
       "      <td>39</td>\n",
       "      <td>1</td>\n",
       "      <td>0.00</td>\n",
       "      <td>2</td>\n",
       "      <td>0</td>\n",
       "      <td>0</td>\n",
       "      <td>93826.63</td>\n",
       "    </tr>\n",
       "    <tr>\n",
       "      <th>4</th>\n",
       "      <td>850</td>\n",
       "      <td>Spain</td>\n",
       "      <td>Female</td>\n",
       "      <td>43</td>\n",
       "      <td>2</td>\n",
       "      <td>125510.82</td>\n",
       "      <td>1</td>\n",
       "      <td>1</td>\n",
       "      <td>1</td>\n",
       "      <td>79084.10</td>\n",
       "    </tr>\n",
       "  </tbody>\n",
       "</table>\n",
       "</div>"
      ],
      "text/plain": [
       "   CreditScore Geography  Gender  Age  Tenure    Balance  NumOfProducts  \\\n",
       "0          619    France  Female   42       2       0.00              1   \n",
       "1          608     Spain  Female   41       1   83807.86              1   \n",
       "2          502    France  Female   42       8  159660.80              3   \n",
       "3          699    France  Female   39       1       0.00              2   \n",
       "4          850     Spain  Female   43       2  125510.82              1   \n",
       "\n",
       "   HasCrCard  IsActiveMember  EstimatedSalary  \n",
       "0          1               1        101348.88  \n",
       "1          0               1        112542.58  \n",
       "2          1               0        113931.57  \n",
       "3          0               0         93826.63  \n",
       "4          1               1         79084.10  "
      ]
     },
     "execution_count": 4,
     "metadata": {},
     "output_type": "execute_result"
    }
   ],
   "source": [
    "X.head()"
   ]
  },
  {
   "cell_type": "markdown",
   "id": "e90ddd17",
   "metadata": {},
   "source": [
    "### Feature Engineering"
   ]
  },
  {
   "cell_type": "code",
   "execution_count": 5,
   "id": "33ddaa24",
   "metadata": {},
   "outputs": [],
   "source": [
    "geography = pd.get_dummies(X['Geography'],drop_first = True)\n",
    "gender = pd.get_dummies(X['Gender'],drop_first = True)"
   ]
  },
  {
   "cell_type": "code",
   "execution_count": 6,
   "id": "aa896e5d",
   "metadata": {},
   "outputs": [],
   "source": [
    "# drop those features from dataset\n",
    "X = X.drop(columns = ['Geography','Gender'])\n",
    "\n",
    "# concat get dummies features\n",
    "\n",
    "X = pd.concat([X,geography,gender],axis = 1)"
   ]
  },
  {
   "cell_type": "markdown",
   "id": "61c48aff",
   "metadata": {},
   "source": [
    "### Train Test Split"
   ]
  },
  {
   "cell_type": "code",
   "execution_count": 7,
   "id": "b1e0dc44",
   "metadata": {},
   "outputs": [],
   "source": [
    "from sklearn.model_selection import train_test_split\n",
    "\n",
    "X_train,X_test,y_train,y_test = train_test_split(X,y,test_size = .2,random_state = 20)"
   ]
  },
  {
   "cell_type": "markdown",
   "id": "4b850a3e",
   "metadata": {},
   "source": [
    "### Feature scaling"
   ]
  },
  {
   "cell_type": "code",
   "execution_count": 8,
   "id": "ad334853",
   "metadata": {},
   "outputs": [],
   "source": [
    "from sklearn.preprocessing import StandardScaler\n",
    "\n",
    "sc = StandardScaler()\n",
    "X_train = sc.fit_transform(X_train)\n",
    "X_test = sc.transform(X_test)"
   ]
  },
  {
   "cell_type": "code",
   "execution_count": 9,
   "id": "9faf8d16",
   "metadata": {},
   "outputs": [
    {
     "data": {
      "text/plain": [
       "(8000, 11)"
      ]
     },
     "execution_count": 9,
     "metadata": {},
     "output_type": "execute_result"
    }
   ],
   "source": [
    "X_train.shape"
   ]
  },
  {
   "cell_type": "code",
   "execution_count": 10,
   "id": "65ee08b0",
   "metadata": {},
   "outputs": [],
   "source": [
    "from tensorflow.keras.models import Sequential\n",
    "from tensorflow.keras.layers import Dense\n",
    "from tensorflow.keras.layers import LeakyReLU,PReLU,ELU,ReLU\n",
    "from tensorflow.keras.layers import Dropout"
   ]
  },
  {
   "cell_type": "code",
   "execution_count": 11,
   "id": "b8a7929d",
   "metadata": {},
   "outputs": [],
   "source": [
    "# Initialize ANN\n",
    "classifier = Sequential()\n",
    "\n",
    "# Adding the input layer\n",
    "classifier.add(Dense(units = 11,activation = 'relu'))\n",
    "\n",
    "# Adding the first hidden layer\n",
    "classifier.add(Dense(units = 7,activation = 'relu'))\n",
    "\n",
    "# Adding the second hidden layer\n",
    "classifier.add(Dense(units = 6,activation = 'relu'))\n",
    "\n",
    "# Adding the Output layer\n",
    "classifier.add(Dense(1,activation = 'sigmoid'))\n",
    "\n",
    "# Compiling the ANN\n",
    "classifier.compile(optimizer = 'adam',loss='binary_crossentropy',metrics = ['accuracy'])"
   ]
  },
  {
   "cell_type": "code",
   "execution_count": 12,
   "id": "ee39aa78",
   "metadata": {},
   "outputs": [],
   "source": [
    "# Early Stopping\n",
    "early_stopping = tf.keras.callbacks.EarlyStopping(\n",
    "    monitor = 'val_loss',\n",
    "    min_delta = 0.0001,\n",
    "    patience = 20,\n",
    "    verbose = 1,\n",
    "    mode = 'auto',\n",
    "    baseline = None,\n",
    "    restore_best_weights = False,\n",
    ")"
   ]
  },
  {
   "cell_type": "code",
   "execution_count": 13,
   "id": "fd03418a",
   "metadata": {},
   "outputs": [
    {
     "name": "stdout",
     "output_type": "stream",
     "text": [
      "Epoch 1/1000\n",
      "536/536 [==============================] - 3s 3ms/step - loss: 0.5645 - accuracy: 0.7231 - val_loss: 0.4473 - val_accuracy: 0.8042\n",
      "Epoch 2/1000\n",
      "536/536 [==============================] - 1s 3ms/step - loss: 0.4467 - accuracy: 0.7944 - val_loss: 0.4040 - val_accuracy: 0.8307\n",
      "Epoch 3/1000\n",
      "536/536 [==============================] - 1s 3ms/step - loss: 0.4062 - accuracy: 0.8281 - val_loss: 0.3703 - val_accuracy: 0.8455\n",
      "Epoch 4/1000\n",
      "536/536 [==============================] - 2s 4ms/step - loss: 0.3815 - accuracy: 0.8377 - val_loss: 0.3569 - val_accuracy: 0.8482\n",
      "Epoch 5/1000\n",
      "536/536 [==============================] - 2s 3ms/step - loss: 0.3704 - accuracy: 0.8421 - val_loss: 0.3505 - val_accuracy: 0.8516\n",
      "Epoch 6/1000\n",
      "536/536 [==============================] - 1s 3ms/step - loss: 0.3640 - accuracy: 0.8431 - val_loss: 0.3537 - val_accuracy: 0.8527\n",
      "Epoch 7/1000\n",
      "536/536 [==============================] - 1s 3ms/step - loss: 0.3598 - accuracy: 0.8457 - val_loss: 0.3418 - val_accuracy: 0.8584\n",
      "Epoch 8/1000\n",
      "536/536 [==============================] - 2s 4ms/step - loss: 0.3568 - accuracy: 0.8498 - val_loss: 0.3399 - val_accuracy: 0.8626\n",
      "Epoch 9/1000\n",
      "536/536 [==============================] - 2s 4ms/step - loss: 0.3544 - accuracy: 0.8494 - val_loss: 0.3371 - val_accuracy: 0.8629\n",
      "Epoch 10/1000\n",
      "536/536 [==============================] - 1s 3ms/step - loss: 0.3517 - accuracy: 0.8503 - val_loss: 0.3388 - val_accuracy: 0.8622\n",
      "Epoch 11/1000\n",
      "536/536 [==============================] - 1s 3ms/step - loss: 0.3496 - accuracy: 0.8520 - val_loss: 0.3401 - val_accuracy: 0.8573\n",
      "Epoch 12/1000\n",
      "536/536 [==============================] - 2s 3ms/step - loss: 0.3476 - accuracy: 0.8535 - val_loss: 0.3355 - val_accuracy: 0.8614\n",
      "Epoch 13/1000\n",
      "536/536 [==============================] - 1s 3ms/step - loss: 0.3453 - accuracy: 0.8548 - val_loss: 0.3391 - val_accuracy: 0.8595\n",
      "Epoch 14/1000\n",
      "536/536 [==============================] - 1s 3ms/step - loss: 0.3446 - accuracy: 0.8565 - val_loss: 0.3355 - val_accuracy: 0.8622\n",
      "Epoch 15/1000\n",
      "536/536 [==============================] - 2s 3ms/step - loss: 0.3428 - accuracy: 0.8558 - val_loss: 0.3354 - val_accuracy: 0.8610\n",
      "Epoch 16/1000\n",
      "536/536 [==============================] - 1s 3ms/step - loss: 0.3419 - accuracy: 0.8567 - val_loss: 0.3329 - val_accuracy: 0.8626\n",
      "Epoch 17/1000\n",
      "536/536 [==============================] - 1s 3ms/step - loss: 0.3404 - accuracy: 0.8561 - val_loss: 0.3362 - val_accuracy: 0.8648\n",
      "Epoch 18/1000\n",
      "536/536 [==============================] - 1s 3ms/step - loss: 0.3404 - accuracy: 0.8567 - val_loss: 0.3323 - val_accuracy: 0.8629\n",
      "Epoch 19/1000\n",
      "536/536 [==============================] - 2s 3ms/step - loss: 0.3386 - accuracy: 0.8599 - val_loss: 0.3331 - val_accuracy: 0.8618\n",
      "Epoch 20/1000\n",
      "536/536 [==============================] - 1s 3ms/step - loss: 0.3379 - accuracy: 0.8571 - val_loss: 0.3343 - val_accuracy: 0.8626\n",
      "Epoch 21/1000\n",
      "536/536 [==============================] - 2s 3ms/step - loss: 0.3367 - accuracy: 0.8600 - val_loss: 0.3306 - val_accuracy: 0.8652\n",
      "Epoch 22/1000\n",
      "536/536 [==============================] - 2s 3ms/step - loss: 0.3352 - accuracy: 0.8619 - val_loss: 0.3356 - val_accuracy: 0.8603\n",
      "Epoch 23/1000\n",
      "536/536 [==============================] - 1s 3ms/step - loss: 0.3340 - accuracy: 0.8602 - val_loss: 0.3323 - val_accuracy: 0.8629\n",
      "Epoch 24/1000\n",
      "536/536 [==============================] - 2s 3ms/step - loss: 0.3337 - accuracy: 0.8614 - val_loss: 0.3331 - val_accuracy: 0.8648\n",
      "Epoch 25/1000\n",
      "536/536 [==============================] - 1s 3ms/step - loss: 0.3324 - accuracy: 0.8619 - val_loss: 0.3377 - val_accuracy: 0.8599\n",
      "Epoch 26/1000\n",
      "536/536 [==============================] - 1s 3ms/step - loss: 0.3330 - accuracy: 0.8612 - val_loss: 0.3322 - val_accuracy: 0.8603\n",
      "Epoch 27/1000\n",
      "536/536 [==============================] - 1s 3ms/step - loss: 0.3316 - accuracy: 0.8617 - val_loss: 0.3313 - val_accuracy: 0.8614\n",
      "Epoch 28/1000\n",
      "536/536 [==============================] - 1s 3ms/step - loss: 0.3315 - accuracy: 0.8625 - val_loss: 0.3312 - val_accuracy: 0.8633\n",
      "Epoch 29/1000\n",
      "536/536 [==============================] - 1s 3ms/step - loss: 0.3318 - accuracy: 0.8614 - val_loss: 0.3333 - val_accuracy: 0.8584\n",
      "Epoch 30/1000\n",
      "536/536 [==============================] - 1s 3ms/step - loss: 0.3308 - accuracy: 0.8623 - val_loss: 0.3317 - val_accuracy: 0.8618\n",
      "Epoch 31/1000\n",
      "536/536 [==============================] - 1s 3ms/step - loss: 0.3302 - accuracy: 0.8608 - val_loss: 0.3336 - val_accuracy: 0.8618\n",
      "Epoch 32/1000\n",
      "536/536 [==============================] - 1s 3ms/step - loss: 0.3304 - accuracy: 0.8595 - val_loss: 0.3310 - val_accuracy: 0.8614\n",
      "Epoch 33/1000\n",
      "536/536 [==============================] - 1s 3ms/step - loss: 0.3307 - accuracy: 0.8604 - val_loss: 0.3333 - val_accuracy: 0.8588\n",
      "Epoch 34/1000\n",
      "536/536 [==============================] - 1s 3ms/step - loss: 0.3289 - accuracy: 0.8602 - val_loss: 0.3315 - val_accuracy: 0.8588\n",
      "Epoch 35/1000\n",
      "536/536 [==============================] - 1s 3ms/step - loss: 0.3294 - accuracy: 0.8623 - val_loss: 0.3331 - val_accuracy: 0.8599\n",
      "Epoch 36/1000\n",
      "536/536 [==============================] - 2s 3ms/step - loss: 0.3289 - accuracy: 0.8612 - val_loss: 0.3336 - val_accuracy: 0.8576\n",
      "Epoch 37/1000\n",
      "536/536 [==============================] - 1s 3ms/step - loss: 0.3288 - accuracy: 0.8625 - val_loss: 0.3333 - val_accuracy: 0.8591\n",
      "Epoch 38/1000\n",
      "536/536 [==============================] - 2s 3ms/step - loss: 0.3287 - accuracy: 0.8627 - val_loss: 0.3320 - val_accuracy: 0.8595\n",
      "Epoch 39/1000\n",
      "536/536 [==============================] - 1s 3ms/step - loss: 0.3273 - accuracy: 0.8636 - val_loss: 0.3318 - val_accuracy: 0.8652\n",
      "Epoch 40/1000\n",
      "536/536 [==============================] - 2s 3ms/step - loss: 0.3274 - accuracy: 0.8608 - val_loss: 0.3417 - val_accuracy: 0.8561\n",
      "Epoch 41/1000\n",
      "536/536 [==============================] - 2s 3ms/step - loss: 0.3277 - accuracy: 0.8599 - val_loss: 0.3314 - val_accuracy: 0.8626\n",
      "Epoch 41: early stopping\n"
     ]
    }
   ],
   "source": [
    "model_history = classifier.fit(X_train,y_train,validation_split = 0.33,batch_size = 10,epochs = 1000,callbacks = early_stopping)"
   ]
  },
  {
   "cell_type": "code",
   "execution_count": 14,
   "id": "db66920a",
   "metadata": {},
   "outputs": [
    {
     "data": {
      "text/plain": [
       "dict_keys(['loss', 'accuracy', 'val_loss', 'val_accuracy'])"
      ]
     },
     "execution_count": 14,
     "metadata": {},
     "output_type": "execute_result"
    }
   ],
   "source": [
    "model_history.history.keys()"
   ]
  },
  {
   "cell_type": "code",
   "execution_count": 15,
   "id": "12cf3cb5",
   "metadata": {
    "scrolled": true
   },
   "outputs": [
    {
     "data": {
      "image/png": "[encoded data removed]",
      "text/plain": [
       "<Figure size 640x480 with 1 Axes>"
      ]
     },
     "metadata": {},
     "output_type": "display_data"
    }
   ],
   "source": [
    "plt.plot(model_history.history['accuracy'], label='Training Accuracy')\n",
    "plt.plot(model_history.history['val_accuracy'], label='Validation Accuracy')\n",
    "plt.title('Model Accuracy')\n",
    "plt.xlabel('Epoch')\n",
    "plt.ylabel('Accuracy')\n",
    "plt.legend()\n",
    "plt.show()\n"
   ]
  },
  {
   "cell_type": "code",
   "execution_count": 16,
   "id": "253e85e5",
   "metadata": {},
   "outputs": [
    {
     "data": {
      "text/plain": [
       "<matplotlib.legend.Legend at 0x1e5ab044050>"
      ]
     },
     "execution_count": 16,
     "metadata": {},
     "output_type": "execute_result"
    },
    {
     "data": {
      "image/png": "[encoded data removed]",
      "text/plain": [
       "<Figure size 640x480 with 1 Axes>"
      ]
     },
     "metadata": {},
     "output_type": "display_data"
    }
   ],
   "source": [
    "plt.plot(model_history.history['loss'], label='Training Loss')\n",
    "plt.plot(model_history.history['val_loss'], label='Validation Loss')\n",
    "plt.title('Model Loss')\n",
    "plt.xlabel('Epoch')\n",
    "plt.ylabel('Loss')\n",
    "plt.legend()"
   ]
  },
  {
   "cell_type": "markdown",
   "id": "ca08a6be",
   "metadata": {},
   "source": [
    "Validation Loss (val_loss): This shows how well the model is performing on the validation set in terms of the loss function. If val_loss decreases, the model is learning well. If it starts increasing while training loss continues to decrease, it may indicate overfitting.\n",
    "\n",
    "Validation Accuracy (val_accuracy): This shows how well the model is classifying the validation data. If validation accuracy is improving, it indicates that the model is generalizing well to new data. If validation accuracy stops improving or decreases while training accuracy continues to improve, this could also be a sign of overfitting"
   ]
  },
  {
   "cell_type": "markdown",
   "id": "9377574e",
   "metadata": {},
   "source": [
    "### Prediction and Evaluating "
   ]
  },
  {
   "cell_type": "code",
   "execution_count": 17,
   "id": "9215a471",
   "metadata": {},
   "outputs": [],
   "source": [
    "from sklearn.metrics import confusion_matrix\n",
    "from sklearn.metrics import accuracy_score"
   ]
  },
  {
   "cell_type": "code",
   "execution_count": 24,
   "id": "2127100d",
   "metadata": {},
   "outputs": [
    {
     "name": "stdout",
     "output_type": "stream",
     "text": [
      "250/250 [==============================] - 0s 1ms/step\n",
      "confusion matrix\n",
      "[[6048  292]\n",
      " [ 787  873]]\n",
      "Training Accuracy: 0.865125\n"
     ]
    }
   ],
   "source": [
    "# Predict on the training data\n",
    "y_train_pred = classifier.predict(X_train)\n",
    "y_train_pred = (y_train_pred >= 0.5)\n",
    "\n",
    "# confusion matrix\n",
    "cm = confusion_matrix(y_train,y_train_pred)\n",
    "print('confusion matrix')\n",
    "print(cm)\n",
    "\n",
    "# Calculate accuracy for the training data\n",
    "train_score = accuracy_score(y_train, y_train_pred)\n",
    "print(f\"Training Accuracy: {train_score}\")\n"
   ]
  },
  {
   "cell_type": "code",
   "execution_count": 25,
   "id": "b2d3dbf3",
   "metadata": {},
   "outputs": [
    {
     "name": "stdout",
     "output_type": "stream",
     "text": [
      "63/63 [==============================] - 0s 2ms/step\n",
      "confusion matrix\n",
      "[[1543   80]\n",
      " [ 200  177]]\n",
      "Test Accuracy: 0.86\n"
     ]
    }
   ],
   "source": [
    "# Predict on test data\n",
    "y_test_pred = classifier.predict(X_test)\n",
    "y_test_pred = (y_test_pred >= 0.5)\n",
    "\n",
    "# confusion matrix\n",
    "cm = confusion_matrix(y_test,y_test_pred)\n",
    "print('confusion matrix')\n",
    "print(cm)\n",
    "\n",
    "# Calculate accuracy for test data\n",
    "test_score = accuracy_score(y_test, y_test_pred)\n",
    "print(f\"Test Accuracy: {test_score}\")\n"
   ]
  },
  {
   "cell_type": "code",
   "execution_count": null,
   "id": "5e777a88",
   "metadata": {},
   "outputs": [],
   "source": []
  }
 ],
 "metadata": {
  "kernelspec": {
   "display_name": "Python 3 (ipykernel)",
   "language": "python",
   "name": "python3"
  },
  "language_info": {
   "codemirror_mode": {
    "name": "ipython",
    "version": 3
   },
   "file_extension": ".py",
   "mimetype": "text/x-python",
   "name": "python",
   "nbconvert_exporter": "python",
   "pygments_lexer": "ipython3",
   "version": "3.11.5"
  }
 },
 "nbformat": 4,
 "nbformat_minor": 5
}
